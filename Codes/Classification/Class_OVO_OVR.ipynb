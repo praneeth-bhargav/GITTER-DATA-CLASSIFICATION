{
  "cells": [
    {
      "cell_type": "code",
      "execution_count": null,
      "metadata": {
        "id": "NC_lxRWU0KNU"
      },
      "outputs": [],
      "source": [
        "import pandas as pd\n",
        "import numpy as np\n",
        "import math\n",
        "from matplotlib import pyplot\n",
        "from scipy.stats import ranksums\n",
        "import statsmodels.api as sm\n",
        "import nltk"
      ]
    },
    {
      "cell_type": "code",
      "source": [
        "import warnings\n",
        "warnings.filterwarnings('ignore')\n",
        "\n",
        "nltk.download('stopwords')\n",
        "nltk.download('punkt')"
      ],
      "metadata": {
        "colab": {
          "base_uri": "https://localhost:8080/"
        },
        "id": "1dagSTImhpDq",
        "outputId": "9809aaae-f503-4adc-9243-c116b6d6eb5b"
      },
      "execution_count": null,
      "outputs": [
        {
          "output_type": "stream",
          "name": "stderr",
          "text": [
            "[nltk_data] Downloading package stopwords to /root/nltk_data...\n",
            "[nltk_data]   Unzipping corpora/stopwords.zip.\n",
            "[nltk_data] Downloading package punkt to /root/nltk_data...\n",
            "[nltk_data]   Unzipping tokenizers/punkt.zip.\n"
          ]
        },
        {
          "output_type": "execute_result",
          "data": {
            "text/plain": [
              "True"
            ]
          },
          "metadata": {},
          "execution_count": 2
        }
      ]
    },
    {
      "cell_type": "code",
      "source": [
        "from google.colab import drive\n",
        "drive.mount('/content/gdrive')"
      ],
      "metadata": {
        "id": "unrVS3HOhukX"
      },
      "execution_count": null,
      "outputs": []
    },
    {
      "cell_type": "code",
      "source": [
        "df = pd.read_csv('/content/gdrive/My Drive/GitterCom_Project/GitterCom_Sampled.csv')"
      ],
      "metadata": {
        "id": "rmyop542DiGN"
      },
      "execution_count": null,
      "outputs": []
    },
    {
      "cell_type": "code",
      "source": [
        "Y = df['Purpose'].to_numpy()"
      ],
      "metadata": {
        "id": "DPzsJSRLDiMt"
      },
      "execution_count": null,
      "outputs": []
    },
    {
      "cell_type": "code",
      "source": [
        "Y[Y == 'Team Wide'] = 1\n",
        "Y[Y == 'Personal benefits'] = 2\n",
        "Y[Y == 'Community support'] = 3\n",
        "Y = Y.astype('int')\n",
        "Y"
      ],
      "metadata": {
        "colab": {
          "base_uri": "https://localhost:8080/"
        },
        "id": "BbZw4a3RJGs0",
        "outputId": "a1ac318f-728b-4bcd-e184-80c54d72b99c"
      },
      "execution_count": null,
      "outputs": [
        {
          "output_type": "execute_result",
          "data": {
            "text/plain": [
              "array([1, 1, 1, ..., 1, 1, 1])"
            ]
          },
          "metadata": {},
          "execution_count": 9
        }
      ]
    },
    {
      "cell_type": "code",
      "source": [
        "np.unique(Y)"
      ],
      "metadata": {
        "colab": {
          "base_uri": "https://localhost:8080/"
        },
        "id": "tnAoUhyMJGvG",
        "outputId": "1f9bd626-971b-454d-9706-e7181c07fb30"
      },
      "execution_count": null,
      "outputs": [
        {
          "output_type": "execute_result",
          "data": {
            "text/plain": [
              "array([1, 2, 3])"
            ]
          },
          "metadata": {},
          "execution_count": 10
        }
      ]
    },
    {
      "cell_type": "code",
      "source": [
        "!pip install --upgrade sk-dist\n",
        "!pip install pyspark"
      ],
      "metadata": {
        "colab": {
          "base_uri": "https://localhost:8080/"
        },
        "id": "oahQcZnYYKn0",
        "outputId": "acc2ff5e-6f61-406c-ce67-53fb86acc2b8"
      },
      "execution_count": null,
      "outputs": [
        {
          "output_type": "stream",
          "name": "stdout",
          "text": [
            "Looking in indexes: https://pypi.org/simple, https://us-python.pkg.dev/colab-wheels/public/simple/\n",
            "Collecting sk-dist\n",
            "  Downloading sk-dist-0.1.9.tar.gz (41 kB)\n",
            "\u001b[?25l     \u001b[90m━━━━━━━━━━━━━━━━━━━━━━━━━━━━━━━━━━━━━━━━\u001b[0m \u001b[32m0.0/41.3 KB\u001b[0m \u001b[31m?\u001b[0m eta \u001b[36m-:--:--\u001b[0m\r\u001b[2K     \u001b[90m━━━━━━━━━━━━━━━━━━━━━━━━━━━━━━━━━━━━━━━━\u001b[0m \u001b[32m41.3/41.3 KB\u001b[0m \u001b[31m2.4 MB/s\u001b[0m eta \u001b[36m0:00:00\u001b[0m\n",
            "\u001b[?25h  Preparing metadata (setup.py) ... \u001b[?25l\u001b[?25hdone\n",
            "Requirement already satisfied: scikit-learn>=0.20.0 in /usr/local/lib/python3.8/dist-packages (from sk-dist) (1.0.2)\n",
            "Requirement already satisfied: pandas>=0.17.0 in /usr/local/lib/python3.8/dist-packages (from sk-dist) (1.3.5)\n",
            "Requirement already satisfied: numpy in /usr/local/lib/python3.8/dist-packages (from sk-dist) (1.21.6)\n",
            "Requirement already satisfied: scipy in /usr/local/lib/python3.8/dist-packages (from sk-dist) (1.7.3)\n",
            "Requirement already satisfied: joblib in /usr/local/lib/python3.8/dist-packages (from sk-dist) (1.2.0)\n",
            "Requirement already satisfied: pytz>=2017.3 in /usr/local/lib/python3.8/dist-packages (from pandas>=0.17.0->sk-dist) (2022.7)\n",
            "Requirement already satisfied: python-dateutil>=2.7.3 in /usr/local/lib/python3.8/dist-packages (from pandas>=0.17.0->sk-dist) (2.8.2)\n",
            "Requirement already satisfied: threadpoolctl>=2.0.0 in /usr/local/lib/python3.8/dist-packages (from scikit-learn>=0.20.0->sk-dist) (3.1.0)\n",
            "Requirement already satisfied: six>=1.5 in /usr/local/lib/python3.8/dist-packages (from python-dateutil>=2.7.3->pandas>=0.17.0->sk-dist) (1.15.0)\n",
            "Building wheels for collected packages: sk-dist\n",
            "  Building wheel for sk-dist (setup.py) ... \u001b[?25l\u001b[?25hdone\n",
            "  Created wheel for sk-dist: filename=sk_dist-0.1.9-py3-none-any.whl size=51836 sha256=7dd282ee3116aad561e7e43df7ba7ed8c5b94e0feaafbaf9a455d09800d6269f\n",
            "  Stored in directory: /root/.cache/pip/wheels/1a/13/cf/1f014bfbe81a95cabed07f21ab5094d8affcbc140ffa3036a8\n",
            "Successfully built sk-dist\n",
            "Installing collected packages: sk-dist\n",
            "Successfully installed sk-dist-0.1.9\n",
            "Looking in indexes: https://pypi.org/simple, https://us-python.pkg.dev/colab-wheels/public/simple/\n",
            "Collecting pyspark\n",
            "  Downloading pyspark-3.3.1.tar.gz (281.4 MB)\n",
            "\u001b[2K     \u001b[90m━━━━━━━━━━━━━━━━━━━━━━━━━━━━━━━━━━━━━━━\u001b[0m \u001b[32m281.4/281.4 MB\u001b[0m \u001b[31m5.3 MB/s\u001b[0m eta \u001b[36m0:00:00\u001b[0m\n",
            "\u001b[?25h  Preparing metadata (setup.py) ... \u001b[?25l\u001b[?25hdone\n",
            "Collecting py4j==0.10.9.5\n",
            "  Downloading py4j-0.10.9.5-py2.py3-none-any.whl (199 kB)\n",
            "\u001b[2K     \u001b[90m━━━━━━━━━━━━━━━━━━━━━━━━━━━━━━━━━━━━━━\u001b[0m \u001b[32m199.7/199.7 KB\u001b[0m \u001b[31m26.6 MB/s\u001b[0m eta \u001b[36m0:00:00\u001b[0m\n",
            "\u001b[?25hBuilding wheels for collected packages: pyspark\n",
            "  Building wheel for pyspark (setup.py) ... \u001b[?25l\u001b[?25hdone\n",
            "  Created wheel for pyspark: filename=pyspark-3.3.1-py2.py3-none-any.whl size=281845512 sha256=9ed4a61d3a88b784bbf1dccc79f85a3679360074e495063d021c2d8ae9c6e520\n",
            "  Stored in directory: /root/.cache/pip/wheels/43/dc/11/ec201cd671da62fa9c5cc77078235e40722170ceba231d7598\n",
            "Successfully built pyspark\n",
            "Installing collected packages: py4j, pyspark\n",
            "Successfully installed py4j-0.10.9.5 pyspark-3.3.1\n"
          ]
        }
      ]
    },
    {
      "cell_type": "code",
      "execution_count": null,
      "metadata": {
        "id": "Tn21tcX70KNg"
      },
      "outputs": [],
      "source": [
        "from sklearn.neural_network import MLPClassifier\n",
        "from sklearn.preprocessing import MinMaxScaler\n",
        "from sklearn.ensemble import BaggingClassifier\n",
        "from sklearn.neighbors import KNeighborsClassifier\n",
        "from sklearn.ensemble import RandomForestClassifier\n",
        "from sklearn.ensemble import ExtraTreesClassifier\n",
        "from sklearn.ensemble import AdaBoostClassifier\n",
        "from sklearn.ensemble import GradientBoostingClassifier\n",
        "from sklearn.linear_model import LogisticRegression\n",
        "from sklearn.tree import DecisionTreeClassifier\n",
        "from sklearn.naive_bayes import MultinomialNB\n",
        "from sklearn.naive_bayes import BernoulliNB\n",
        "from sklearn.naive_bayes import GaussianNB\n",
        "from sklearn import svm\n",
        "\n",
        "from skdist.distribute.multiclass import (\n",
        "    DistOneVsRestClassifier,\n",
        "    DistOneVsOneClassifier\n",
        "    )"
      ]
    },
    {
      "cell_type": "code",
      "source": [
        "def normalizedata(X_train):\n",
        "    scaler = MinMaxScaler()\n",
        "    scaler.fit(X_train)\n",
        "    X_train = scaler.transform(X_train)\n",
        "    return X_train\n",
        "def model1o(trdata,tract,tsdata):\n",
        "    model = DistOneVsOneClassifier(MultinomialNB())\n",
        "    model.fit(trdata,tract)\n",
        "    pred= model.predict(tsdata)\n",
        "    return pred\n",
        "def model2o(trdata,tract,tsdata):\n",
        "    model = DistOneVsOneClassifier(BernoulliNB())\n",
        "    model.fit(trdata,tract)\n",
        "    pred= model.predict(tsdata)\n",
        "    return pred\n",
        "def model3o(trdata,tract,tsdata):\n",
        "    model = DistOneVsOneClassifier(GaussianNB())\n",
        "    model.fit(trdata,tract)\n",
        "    pred= model.predict(tsdata)\n",
        "    return pred\n",
        "def model4o(trdata,tract,tsdata):\n",
        "    model = DistOneVsOneClassifier(DecisionTreeClassifier()).fit(trdata,tract)\n",
        "    pred= model.predict(tsdata)\n",
        "    return pred\n",
        "def model5o(trdata,tract,tsdata):\n",
        "    model = DistOneVsOneClassifier(LogisticRegression()).fit(trdata,tract)\n",
        "    pred= model.predict(tsdata)\n",
        "    return pred\n",
        "def model6o(trdata,tract,tsdata):\n",
        "    model = DistOneVsOneClassifier(KNeighborsClassifier()).fit(trdata,tract)\n",
        "    pred= model.predict(tsdata)\n",
        "    return pred\n",
        "def model7o(trdata,tract,tsdata):\n",
        "    model = DistOneVsOneClassifier(BaggingClassifier(KNeighborsClassifier(),max_samples=0.5, max_features=0.5)).fit(trdata,tract)\n",
        "    pred= model.predict(tsdata)\n",
        "    return pred\n",
        "def model8o(trdata,tract,tsdata):\n",
        "    model = DistOneVsOneClassifier(BaggingClassifier(MultinomialNB(),max_samples=0.5, max_features=0.5)).fit(trdata,tract)\n",
        "    pred= model.predict(tsdata)\n",
        "    return pred\n",
        "def model9o(trdata,tract,tsdata):\n",
        "    model = DistOneVsOneClassifier(BaggingClassifier(LogisticRegression(),max_samples=0.5, max_features=0.5)).fit(trdata,tract)\n",
        "    pred= model.predict(tsdata)\n",
        "    return pred\n",
        "def model10o(trdata,tract,tsdata):\n",
        "    model = DistOneVsOneClassifier(BaggingClassifier(DecisionTreeClassifier(),max_samples=0.5, max_features=0.5)).fit(trdata,tract)\n",
        "    pred= model.predict(tsdata)\n",
        "    return pred\n",
        "def model11o(trdata,tract,tsdata):\n",
        "    model = DistOneVsOneClassifier(RandomForestClassifier(n_estimators=10)).fit(trdata,tract)\n",
        "    pred= model.predict(tsdata)\n",
        "    return pred\n",
        "def model12o(trdata,tract,tsdata):\n",
        "    model = DistOneVsOneClassifier(ExtraTreesClassifier(n_estimators=10, max_depth=None,min_samples_split=2, random_state=0)).fit(trdata,tract)\n",
        "    pred= model.predict(tsdata)\n",
        "    return pred\n",
        "def model13o(trdata,tract,tsdata):\n",
        "    model = DistOneVsOneClassifier(AdaBoostClassifier(n_estimators=10)).fit(trdata,tract)\n",
        "    pred= model.predict(tsdata)\n",
        "    return pred\n",
        "def model14o(trdata,tract,tsdata):\n",
        "    model = DistOneVsOneClassifier(GradientBoostingClassifier(n_estimators=10, learning_rate=1.0,max_depth=1, random_state=0)).fit(trdata,tract)\n",
        "    pred= model.predict(tsdata)\n",
        "    return pred\n",
        "def model15o(trdata,tract,tsdata):\n",
        "    model = DistOneVsOneClassifier(MLPClassifier(solver='lbfgs', hidden_layer_sizes=(trdata.shape[1], 2), random_state=1,max_iter=1500)).fit(trdata,tract)\n",
        "    pred= model.predict(tsdata)\n",
        "    return pred\n",
        "def model16o(trdata,tract,tsdata):\n",
        "    model = DistOneVsOneClassifier(MLPClassifier(solver='sgd', hidden_layer_sizes=(trdata.shape[1], 2), random_state=1,max_iter=1500)).fit(trdata,tract)\n",
        "    pred= model.predict(tsdata)\n",
        "    return pred\n",
        "def model17o(trdata,tract,tsdata):\n",
        "    model = DistOneVsOneClassifier(MLPClassifier(solver='adam', hidden_layer_sizes=(trdata.shape[1], 2), random_state=1,max_iter=1500)).fit(trdata,tract)\n",
        "    pred= model.predict(tsdata)\n",
        "    return pred"
      ],
      "metadata": {
        "id": "S3uhWq5QXg8x"
      },
      "execution_count": null,
      "outputs": []
    },
    {
      "cell_type": "code",
      "source": [
        "def model1r(trdata,tract,tsdata):\n",
        "    model = DistOneVsRestClassifier(MultinomialNB())\n",
        "    model.fit(trdata,tract)\n",
        "    pred= model.predict(tsdata)\n",
        "    pred1=model.predict_proba(tsdata)\n",
        "    return pred,pred1\n",
        "def model2r(trdata,tract,tsdata):\n",
        "    model = DistOneVsRestClassifier(BernoulliNB())\n",
        "    model.fit(trdata,tract)\n",
        "    pred= model.predict(tsdata)\n",
        "    pred1=model.predict_proba(tsdata)\n",
        "    return pred,pred1\n",
        "def model3r(trdata,tract,tsdata):\n",
        "    model = DistOneVsRestClassifier(GaussianNB())\n",
        "    model.fit(trdata,tract)\n",
        "    pred= model.predict(tsdata)\n",
        "    pred1=model.predict_proba(tsdata)\n",
        "    return pred,pred1\n",
        "def model4r(trdata,tract,tsdata):\n",
        "    model = DistOneVsRestClassifier(DecisionTreeClassifier()).fit(trdata,tract)\n",
        "    pred= model.predict(tsdata)\n",
        "    pred1=model.predict_proba(tsdata)\n",
        "    return pred,pred1\n",
        "def model5r(trdata,tract,tsdata):\n",
        "    model = DistOneVsRestClassifier(LogisticRegression()).fit(trdata,tract)\n",
        "    pred= model.predict(tsdata)\n",
        "    pred1=model.predict_proba(tsdata)\n",
        "    return pred,pred1\n",
        "def model6r(trdata,tract,tsdata):\n",
        "    model = DistOneVsRestClassifier(KNeighborsClassifier()).fit(trdata,tract)\n",
        "    pred= model.predict(tsdata)\n",
        "    pred1=model.predict_proba(tsdata)\n",
        "    return pred,pred1\n",
        "def model7r(trdata,tract,tsdata):\n",
        "    model = DistOneVsRestClassifier(BaggingClassifier(KNeighborsClassifier(),max_samples=0.5, max_features=0.5)).fit(trdata,tract)\n",
        "    pred= model.predict(tsdata)\n",
        "    pred1=model.predict_proba(tsdata)\n",
        "    return pred,pred1\n",
        "def model8r(trdata,tract,tsdata):\n",
        "    model = DistOneVsRestClassifier(BaggingClassifier(MultinomialNB(),max_samples=0.5, max_features=0.5)).fit(trdata,tract)\n",
        "    pred= model.predict(tsdata)\n",
        "    pred1=model.predict_proba(tsdata)\n",
        "    return pred,pred1\n",
        "def model9r(trdata,tract,tsdata):\n",
        "    model = DistOneVsRestClassifier(BaggingClassifier(LogisticRegression(),max_samples=0.5, max_features=0.5)).fit(trdata,tract)\n",
        "    pred= model.predict(tsdata)\n",
        "    pred1=model.predict_proba(tsdata)\n",
        "    return pred,pred1\n",
        "def model10r(trdata,tract,tsdata):\n",
        "    model = DistOneVsRestClassifier(BaggingClassifier(DecisionTreeClassifier(),max_samples=0.5, max_features=0.5)).fit(trdata,tract)\n",
        "    pred= model.predict(tsdata)\n",
        "    pred1=model.predict_proba(tsdata)\n",
        "    return pred,pred1\n",
        "def model11r(trdata,tract,tsdata):\n",
        "    model = DistOneVsRestClassifier(RandomForestClassifier(n_estimators=10)).fit(trdata,tract)\n",
        "    pred= model.predict(tsdata)\n",
        "    pred1=model.predict_proba(tsdata)\n",
        "    return pred,pred1\n",
        "def model12r(trdata,tract,tsdata):\n",
        "    model = DistOneVsRestClassifier(ExtraTreesClassifier(n_estimators=10, max_depth=None,min_samples_split=2, random_state=0)).fit(trdata,tract)\n",
        "    pred= model.predict(tsdata)\n",
        "    pred1=model.predict_proba(tsdata)\n",
        "    return pred,pred1\n",
        "def model13r(trdata,tract,tsdata):\n",
        "    model = DistOneVsRestClassifier(AdaBoostClassifier(n_estimators=10)).fit(trdata,tract)\n",
        "    pred= model.predict(tsdata)\n",
        "    pred1=model.predict_proba(tsdata)\n",
        "    return pred,pred1\n",
        "def model14r(trdata,tract,tsdata):\n",
        "    model = DistOneVsRestClassifier(GradientBoostingClassifier(n_estimators=10, learning_rate=1.0,max_depth=1, random_state=0)).fit(trdata,tract)\n",
        "    pred= model.predict(tsdata)\n",
        "    pred1=model.predict_proba(tsdata)\n",
        "    return pred,pred1\n",
        "def model15r(trdata,tract,tsdata):\n",
        "    model = DistOneVsRestClassifier(MLPClassifier(solver='lbfgs', hidden_layer_sizes=(trdata.shape[1], 2), random_state=1,max_iter=1500)).fit(trdata,tract)\n",
        "    pred= model.predict(tsdata)\n",
        "    pred1=model.predict_proba(tsdata)\n",
        "    return pred,pred1\n",
        "def model16r(trdata,tract,tsdata):\n",
        "    model = DistOneVsRestClassifier(MLPClassifier(solver='sgd', hidden_layer_sizes=(trdata.shape[1], 2), random_state=1,max_iter=1500)).fit(trdata,tract)\n",
        "    pred= model.predict(tsdata)\n",
        "    pred1=model.predict_proba(tsdata)\n",
        "    return pred,pred1\n",
        "def model17r(trdata,tract,tsdata):\n",
        "    model = DistOneVsRestClassifier(MLPClassifier(solver='adam', hidden_layer_sizes=(trdata.shape[1], 2), random_state=1,max_iter=1500)).fit(trdata,tract)\n",
        "    pred= model.predict(tsdata)\n",
        "    pred1=model.predict_proba(tsdata)\n",
        "    return pred,pred1"
      ],
      "metadata": {
        "id": "K2cWR1TFXg-z"
      },
      "execution_count": null,
      "outputs": []
    },
    {
      "cell_type": "code",
      "source": [
        "from sklearn.model_selection import KFold\n",
        "kf = KFold(5)\n",
        "for i in range(1, 55):\n",
        "    print(i)\n",
        "    fname='/content/gdrive/My Drive/GitterCom_Project/'+str(i)+'sampled'+'.csv'\n",
        "    data=np.loadtxt(fname,delimiter=',')\n",
        "    np.random.shuffle(data)\n",
        "    predvalue=np.zeros((np.shape(data)[0],35))\n",
        "    predvalue1=np.zeros((np.shape(data)[0],52))\n",
        "    data[:,0:-1]=normalizedata(data[:,0:-1])\n",
        "    for train_index, test_index in kf.split(data):\n",
        "        print('new iter')\n",
        "        trdata=data[train_index,0:-1]\n",
        "        tsdata=data[test_index,0:-1]\n",
        "        tract=data[train_index,-1]\n",
        "        tsact=data[test_index,-1]\n",
        "        predvalue[test_index,0],predvalue1[test_index,0:3]=model1r(trdata,tract,tsdata)\n",
        "        predvalue[test_index,1],predvalue1[test_index,3:6]=model2r(trdata,tract,tsdata)\n",
        "        predvalue[test_index,2],predvalue1[test_index,6:9]=model3r(trdata,tract,tsdata)\n",
        "        predvalue[test_index,3],predvalue1[test_index,9:12]=model4r(trdata,tract,tsdata)\n",
        "        predvalue[test_index,4],predvalue1[test_index,12:15]=model5r(trdata,tract,tsdata)\n",
        "        predvalue[test_index,5],predvalue1[test_index,15:18]=model6r(trdata,tract,tsdata)\n",
        "        predvalue[test_index,6],predvalue1[test_index,18:21]=model7r(trdata,tract,tsdata)\n",
        "        predvalue[test_index,7],predvalue1[test_index,21:24]=model8r(trdata,tract,tsdata)\n",
        "        predvalue[test_index,8],predvalue1[test_index,24:27]=model9r(trdata,tract,tsdata)\n",
        "        predvalue[test_index,9],predvalue1[test_index,27:30]=model10r(trdata,tract,tsdata)\n",
        "        predvalue[test_index,10],predvalue1[test_index,30:33]=model11r(trdata,tract,tsdata)\n",
        "        predvalue[test_index,11],predvalue1[test_index,33:36]=model12r(trdata,tract,tsdata)\n",
        "        predvalue[test_index,12],predvalue1[test_index,36:39]=model13r(trdata,tract,tsdata)\n",
        "        predvalue[test_index,13],predvalue1[test_index,39:42]=model14r(trdata,tract,tsdata)\n",
        "        predvalue[test_index,14],predvalue1[test_index,42:45]=model15r(trdata,tract,tsdata)\n",
        "        predvalue[test_index,15],predvalue1[test_index,45:48]=model16r(trdata,tract,tsdata)\n",
        "        predvalue[test_index,16],predvalue1[test_index,48:51]=model17r(trdata,tract,tsdata)\n",
        "        predvalue[test_index,17]=model1o(trdata,tract,tsdata)\n",
        "        predvalue[test_index,18]=model2o(trdata,tract,tsdata)\n",
        "        predvalue[test_index,19]=model3o(trdata,tract,tsdata)\n",
        "        predvalue[test_index,20]=model4o(trdata,tract,tsdata)\n",
        "        predvalue[test_index,21]=model5o(trdata,tract,tsdata)\n",
        "        predvalue[test_index,22]=model6o(trdata,tract,tsdata)\n",
        "        predvalue[test_index,23]=model7o(trdata,tract,tsdata)\n",
        "        predvalue[test_index,24]=model8o(trdata,tract,tsdata)\n",
        "        predvalue[test_index,25]=model9o(trdata,tract,tsdata)\n",
        "        predvalue[test_index,26]=model10o(trdata,tract,tsdata)\n",
        "        predvalue[test_index,27]=model11o(trdata,tract,tsdata)\n",
        "        predvalue[test_index,28]=model12o(trdata,tract,tsdata)\n",
        "        predvalue[test_index,29]=model13o(trdata,tract,tsdata)\n",
        "        predvalue[test_index,30]=model14o(trdata,tract,tsdata)\n",
        "        predvalue[test_index,31]=model15o(trdata,tract,tsdata)\n",
        "        predvalue[test_index,32]=model16o(trdata,tract,tsdata)\n",
        "        predvalue[test_index,33]=model17o(trdata,tract,tsdata)\n",
        "        predvalue1[test_index,51]=tsact\n",
        "        predvalue[test_index,34]=tsact\n",
        "    fname = str(i) + \"pred.csv\"\n",
        "    np.savetxt(fname, predvalue, delimiter=',', fmt='%f')\n",
        "    fname = str(i) + \"predp.csv\"\n",
        "    np.savetxt(fname, predvalue1, delimiter=',', fmt='%f')\n",
        "    print('done ' + str(i))"
      ],
      "metadata": {
        "id": "EK1D-3ioXhIC",
        "colab": {
          "base_uri": "https://localhost:8080/"
        },
        "outputId": "77db602b-338f-4c42-aba2-0582927ccdc5"
      },
      "execution_count": null,
      "outputs": [
        {
          "output_type": "stream",
          "name": "stdout",
          "text": [
            "36\n",
            "new iter\n"
          ]
        }
      ]
    },
    {
      "cell_type": "code",
      "source": [
        "import pickle\n",
        "with open(\"indices\", \"wb\") as fp:\n",
        "  pickle.dump(indices, fp)"
      ],
      "metadata": {
        "id": "mqY2m2drKiy2"
      },
      "execution_count": null,
      "outputs": []
    },
    {
      "cell_type": "code",
      "source": [
        "import pickle\n",
        "with open(\"/content/gdrive/My Drive/GitterCom_Project/indices\", \"rb\") as fp:\n",
        "  indices = pickle.load(fp)"
      ],
      "metadata": {
        "id": "Kjjh6g2mKi1F"
      },
      "execution_count": null,
      "outputs": []
    }
  ],
  "metadata": {
    "kernelspec": {
      "display_name": "Python 3",
      "language": "python",
      "name": "python3"
    },
    "language_info": {
      "codemirror_mode": {
        "name": "ipython",
        "version": 3
      },
      "file_extension": ".py",
      "mimetype": "text/x-python",
      "name": "python",
      "nbconvert_exporter": "python",
      "pygments_lexer": "ipython3",
      "version": "3.8.5"
    },
    "colab": {
      "provenance": [],
      "machine_shape": "hm"
    },
    "accelerator": "TPU",
    "gpuClass": "standard"
  },
  "nbformat": 4,
  "nbformat_minor": 0
}