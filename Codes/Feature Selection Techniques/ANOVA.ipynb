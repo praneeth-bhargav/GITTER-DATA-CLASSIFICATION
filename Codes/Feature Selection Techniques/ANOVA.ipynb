{
  "cells": [
    {
      "cell_type": "code",
      "execution_count": null,
      "id": "83349d15",
      "metadata": {
        "id": "83349d15",
        "outputId": "6cd7c4b7-eea9-4506-c562-66dbd965c1ed",
        "colab": {
          "base_uri": "https://localhost:8080/"
        }
      },
      "outputs": [
        {
          "output_type": "stream",
          "name": "stdout",
          "text": [
            "Looking in indexes: https://pypi.org/simple, https://us-python.pkg.dev/colab-wheels/public/simple/\n",
            "Requirement already satisfied: scipy in /usr/local/lib/python3.8/dist-packages (1.7.3)\n",
            "Requirement already satisfied: numpy<1.23.0,>=1.16.5 in /usr/local/lib/python3.8/dist-packages (from scipy) (1.21.6)\n"
          ]
        }
      ],
      "source": [
        "!pip3 install scipy"
      ]
    },
    {
      "cell_type": "code",
      "execution_count": null,
      "id": "244a2033",
      "metadata": {
        "id": "244a2033"
      },
      "outputs": [],
      "source": [
        "import logging\n",
        "import pandas as pd\n",
        "import numpy as np\n",
        "import scipy\n",
        "from scipy.stats import f_oneway\n",
        "import gensim\n",
        "import nltk\n",
        "import re\n",
        "from bs4 import BeautifulSoup"
      ]
    },
    {
      "cell_type": "code",
      "source": [
        "import warnings\n",
        "warnings.filterwarnings ('ignore')\n",
        "\n",
        "nltk.download('stopwords')\n",
        "nltk.download('punkt')"
      ],
      "metadata": {
        "id": "LOp-PfDWAYrt",
        "colab": {
          "base_uri": "https://localhost:8080/"
        },
        "outputId": "e3914858-89b8-40ca-e744-1135ee929cc4"
      },
      "id": "LOp-PfDWAYrt",
      "execution_count": null,
      "outputs": [
        {
          "output_type": "stream",
          "name": "stderr",
          "text": [
            "[nltk_data] Downloading package stopwords to /root/nltk_data...\n",
            "[nltk_data]   Unzipping corpora/stopwords.zip.\n",
            "[nltk_data] Downloading package punkt to /root/nltk_data...\n",
            "[nltk_data]   Unzipping tokenizers/punkt.zip.\n"
          ]
        },
        {
          "output_type": "execute_result",
          "data": {
            "text/plain": [
              "True"
            ]
          },
          "metadata": {},
          "execution_count": 3
        }
      ]
    },
    {
      "cell_type": "code",
      "source": [
        "from google.colab import drive\n",
        "drive.mount('/content/gdrive')"
      ],
      "metadata": {
        "id": "zLpAm6WDAgbf",
        "colab": {
          "base_uri": "https://localhost:8080/"
        },
        "outputId": "98b720c5-829d-4979-dba5-590084dbc868"
      },
      "id": "zLpAm6WDAgbf",
      "execution_count": null,
      "outputs": [
        {
          "output_type": "stream",
          "name": "stdout",
          "text": [
            "Mounted at /content/gdrive\n"
          ]
        }
      ]
    },
    {
      "cell_type": "code",
      "execution_count": null,
      "id": "40389501",
      "metadata": {
        "id": "40389501",
        "outputId": "5475c6a1-ffb2-474c-92d1-1b41faacca85",
        "colab": {
          "base_uri": "https://localhost:8080/"
        }
      },
      "outputs": [
        {
          "output_type": "execute_result",
          "data": {
            "text/plain": [
              "(9959, 8)"
            ]
          },
          "metadata": {},
          "execution_count": 5
        }
      ],
      "source": [
        "fname='/content/gdrive/My Drive/GitterCom_Project/Codes/GitterCom.csv'\n",
        "df = pd.read_csv(fname,encoding='utf8')\n",
        "df.drop([581, 2102, 4858, 6417], axis=0, inplace=True)\n",
        "\n",
        "non_string = []\n",
        "for i, row in df.iterrows():\n",
        "    res = ((type(row['message']) != str) or (type(row['Purpose']) != str) or (type(row['Category']) != str) or (type(row['Subcategory']) != str))\n",
        "    if res:\n",
        "        non_string.append(i)\n",
        "\n",
        "df.drop(non_string, axis=0, inplace=True)\n",
        "df.shape"
      ]
    },
    {
      "cell_type": "code",
      "execution_count": null,
      "id": "4624f8f0",
      "metadata": {
        "id": "4624f8f0"
      },
      "outputs": [],
      "source": [
        "for x in range(1,10):\n",
        "    fname = '/content/gdrive/My Drive/GitterCom_Project/Codes/' + str(x) + '.csv'\n",
        "    arr = np.loadtxt(fname, delimiter=\",\", dtype = float)\n",
        "    arr.shape\n",
        "    cat = df[df.columns[5]].to_numpy()\n",
        "    drop_column = []\n",
        "\n",
        "    for i in range(arr.shape[1]):\n",
        "        arr_ = (np.vstack((arr[:,i], cat))).T\n",
        "        df_ = pd.DataFrame(data = arr_, columns = ['Feature', 'Category'])\n",
        "        df1 = df_[df_['Category'] == 'Team Wide']\n",
        "        df2 = df_[df_['Category'] == 'Personal benefits']\n",
        "        df3 = df_[df_['Category'] == 'Community support']\n",
        "\n",
        "        p_value = f_oneway(df1['Feature'].tolist(), df2['Feature'].tolist(), df3['Feature'].tolist()).pvalue\n",
        "\n",
        "        if p_value > 0.05:\n",
        "            drop_column.append(i)\n",
        "\n",
        "    arr = np.delete(arr, drop_column, axis=1)\n",
        "    fname = str(x+9) + '.csv'\n",
        "    np.savetxt(fname, arr, delimiter = ',', fmt = '%f')"
      ]
    },
    {
      "cell_type": "code",
      "execution_count": null,
      "id": "8cd75632",
      "metadata": {
        "id": "8cd75632",
        "colab": {
          "base_uri": "https://localhost:8080/"
        },
        "outputId": "329fa994-a08f-4e16-f5c1-0803ccd038b2"
      },
      "outputs": [
        {
          "output_type": "execute_result",
          "data": {
            "text/plain": [
              "(9959, 653)"
            ]
          },
          "metadata": {},
          "execution_count": 7
        }
      ],
      "source": [
        "arr.shape"
      ]
    },
    {
      "cell_type": "code",
      "source": [],
      "metadata": {
        "id": "AFDiTuOnDDmP"
      },
      "id": "AFDiTuOnDDmP",
      "execution_count": null,
      "outputs": []
    }
  ],
  "metadata": {
    "kernelspec": {
      "display_name": "Python 3 (ipykernel)",
      "language": "python",
      "name": "python3"
    },
    "language_info": {
      "codemirror_mode": {
        "name": "ipython",
        "version": 3
      },
      "file_extension": ".py",
      "mimetype": "text/x-python",
      "name": "python",
      "nbconvert_exporter": "python",
      "pygments_lexer": "ipython3",
      "version": "3.8.12"
    },
    "colab": {
      "provenance": [],
      "machine_shape": "hm"
    },
    "accelerator": "TPU",
    "gpuClass": "standard"
  },
  "nbformat": 4,
  "nbformat_minor": 5
}