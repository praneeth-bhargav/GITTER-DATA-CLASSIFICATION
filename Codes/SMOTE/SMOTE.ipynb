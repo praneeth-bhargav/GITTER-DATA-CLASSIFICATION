{
  "cells": [
    {
      "cell_type": "code",
      "execution_count": null,
      "metadata": {
        "id": "NC_lxRWU0KNU"
      },
      "outputs": [],
      "source": [
        "import pandas as pd\n",
        "import numpy as np\n",
        "import math\n",
        "from matplotlib import pyplot\n",
        "from scipy.stats import ranksums\n",
        "import statsmodels.api as sm\n",
        "import nltk"
      ]
    },
    {
      "cell_type": "code",
      "source": [
        "import warnings\n",
        "warnings.filterwarnings('ignore')\n",
        "\n",
        "nltk.download('stopwords')\n",
        "nltk.download('punkt')"
      ],
      "metadata": {
        "colab": {
          "base_uri": "https://localhost:8080/"
        },
        "id": "1dagSTImhpDq",
        "outputId": "9809aaae-f503-4adc-9243-c116b6d6eb5b"
      },
      "execution_count": null,
      "outputs": [
        {
          "output_type": "stream",
          "name": "stderr",
          "text": [
            "[nltk_data] Downloading package stopwords to /root/nltk_data...\n",
            "[nltk_data]   Unzipping corpora/stopwords.zip.\n",
            "[nltk_data] Downloading package punkt to /root/nltk_data...\n",
            "[nltk_data]   Unzipping tokenizers/punkt.zip.\n"
          ]
        },
        {
          "output_type": "execute_result",
          "data": {
            "text/plain": [
              "True"
            ]
          },
          "metadata": {},
          "execution_count": 2
        }
      ]
    },
    {
      "cell_type": "code",
      "source": [
        "from google.colab import drive\n",
        "drive.mount('/content/gdrive')"
      ],
      "metadata": {
        "id": "unrVS3HOhukX"
      },
      "execution_count": null,
      "outputs": []
    },
    {
      "cell_type": "code",
      "execution_count": null,
      "metadata": {
        "id": "Iz3Pij6Y0KNd"
      },
      "outputs": [],
      "source": [
        "from imblearn.over_sampling import SMOTE\n",
        "from imblearn.over_sampling import BorderlineSMOTE\n",
        "from imblearn.over_sampling import SVMSMOTE"
      ]
    },
    {
      "cell_type": "code",
      "source": [
        "df = pd.read_csv('/content/gdrive/My Drive/GitterCom_Project/GitterCom_Sampled.csv')"
      ],
      "metadata": {
        "id": "rmyop542DiGN"
      },
      "execution_count": null,
      "outputs": []
    },
    {
      "cell_type": "code",
      "source": [
        "Y = df['Purpose'].to_numpy()"
      ],
      "metadata": {
        "id": "DPzsJSRLDiMt"
      },
      "execution_count": null,
      "outputs": []
    },
    {
      "cell_type": "code",
      "source": [
        "sm = SMOTE(random_state=25)"
      ],
      "metadata": {
        "id": "NxogS48XDiSO"
      },
      "execution_count": null,
      "outputs": []
    },
    {
      "cell_type": "code",
      "source": [
        "Y[Y == 'Team Wide'] = 1\n",
        "Y[Y == 'Personal benefits'] = 2\n",
        "Y[Y == 'Community support'] = 3\n",
        "Y = Y.astype('int')\n",
        "Y"
      ],
      "metadata": {
        "colab": {
          "base_uri": "https://localhost:8080/"
        },
        "id": "BbZw4a3RJGs0",
        "outputId": "a1ac318f-728b-4bcd-e184-80c54d72b99c"
      },
      "execution_count": null,
      "outputs": [
        {
          "output_type": "execute_result",
          "data": {
            "text/plain": [
              "array([1, 1, 1, ..., 1, 1, 1])"
            ]
          },
          "metadata": {},
          "execution_count": 9
        }
      ]
    },
    {
      "cell_type": "code",
      "source": [
        "#SMOTE\n",
        "for i in range(1, 28):\n",
        "  fname = '/content/gdrive/My Drive/GitterCom_Project/' + str(i) + '.csv'\n",
        "  df = np.loadtxt(fname, delimiter=\",\", dtype = float)\n",
        "\n",
        "  out1 = np.concatenate((df, Y.reshape(-1,1)), axis=1)\n",
        "  fname = str(i) + \".csv\"\n",
        "  np.savetxt(fname, out1, delimiter=',', fmt='%f')\n",
        "\n",
        "  datan=out1[:,0:-1]\n",
        "  out=out1[:,-1]\n",
        "  X_res, y_res = sm.fit_resample(datan,out)\n",
        "  y = y_res.reshape(-1,1)\n",
        "  out2 = np.concatenate((X_res, y), axis=1)\n",
        "  fname = str(27+i) + \".csv\"\n",
        "  np.savetxt(fname, out2, delimiter=',', fmt='%f')"
      ],
      "metadata": {
        "id": "9KNyLCJKFHlj"
      },
      "execution_count": null,
      "outputs": []
    }
  ],
  "metadata": {
    "kernelspec": {
      "display_name": "Python 3",
      "language": "python",
      "name": "python3"
    },
    "language_info": {
      "codemirror_mode": {
        "name": "ipython",
        "version": 3
      },
      "file_extension": ".py",
      "mimetype": "text/x-python",
      "name": "python",
      "nbconvert_exporter": "python",
      "pygments_lexer": "ipython3",
      "version": "3.8.5"
    },
    "colab": {
      "provenance": [],
      "machine_shape": "hm"
    },
    "accelerator": "TPU",
    "gpuClass": "standard"
  },
  "nbformat": 4,
  "nbformat_minor": 0
}