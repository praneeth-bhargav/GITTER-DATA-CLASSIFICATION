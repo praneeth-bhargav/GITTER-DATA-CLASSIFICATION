{
 "cells": [
  {
   "cell_type": "code",
   "execution_count": 31,
   "id": "87047781",
   "metadata": {},
   "outputs": [
    {
     "name": "stderr",
     "output_type": "stream",
     "text": [
      "[nltk_data] Downloading package stopwords to\n",
      "[nltk_data]     C:\\Users\\aksha\\AppData\\Roaming\\nltk_data...\n",
      "[nltk_data]   Package stopwords is already up-to-date!\n"
     ]
    },
    {
     "data": {
      "text/plain": [
       "True"
      ]
     },
     "execution_count": 31,
     "metadata": {},
     "output_type": "execute_result"
    }
   ],
   "source": [
    "import nltk\n",
    "nltk.download('stopwords')"
   ]
  },
  {
   "cell_type": "code",
   "execution_count": 32,
   "id": "924c79d8",
   "metadata": {},
   "outputs": [],
   "source": [
    "import pandas as pd\n",
    "import nltk\n",
    "import re\n",
    "from bs4 import BeautifulSoup\n",
    "import numpy as np\n",
    "from nltk.corpus import stopwords\n",
    "from nltk.stem import PorterStemmer\n",
    "import sklearn\n",
    "#import torch\n",
    "#import transformers as ppb"
   ]
  },
  {
   "cell_type": "code",
   "execution_count": 33,
   "id": "04069fa0",
   "metadata": {},
   "outputs": [],
   "source": [
    "from sklearn.model_selection import train_test_split\n",
    "from sklearn.naive_bayes import GaussianNB \n",
    "from sklearn.decomposition import PCA\n",
    "from sklearn.preprocessing import StandardScaler\n",
    "\n",
    "from sklearn.multioutput import MultiOutputClassifier\n",
    "\n",
    "from sklearn.metrics import classification_report, confusion_matrix, roc_auc_score, accuracy_score\n",
    "from sklearn import metrics"
   ]
  },
  {
   "cell_type": "code",
   "execution_count": 34,
   "id": "e91c7773",
   "metadata": {},
   "outputs": [],
   "source": [
    "# Hide all the warnings in jupyter notebook\n",
    "\n",
    "import warnings\n",
    "warnings.filterwarnings ('ignore')"
   ]
  },
  {
   "cell_type": "code",
   "execution_count": 35,
   "id": "754c52e7",
   "metadata": {},
   "outputs": [],
   "source": [
    "REPLACE_BY_SPACE_RE = re.compile('[/(){}\\[\\]\\|@,;]')\n",
    "BAD_SYMBOLS_RE = re.compile('[^0-9a-z #+_]')\n",
    "STOPWORDS =nltk.corpus.stopwords.words('english')\n",
    "\n",
    "def clean_text(text):\n",
    "    \n",
    "    text = BeautifulSoup(text, \"lxml\").text # HTML decoding\n",
    "    text = text.lower() # lowercase text\n",
    "    text = REPLACE_BY_SPACE_RE.sub(' ', text) # replace REPLACE_BY_SPACE_RE symbols by space in text\n",
    "    text = BAD_SYMBOLS_RE.sub('', text) # delete symbols which are in BAD_SYMBOLS_RE from text\n",
    "    text = ' '.join(word for word in text.split() if word not in STOPWORDS) # delete stopwors from text\n",
    "    return text   \n",
    "    \n"
   ]
  },
  {
   "cell_type": "code",
   "execution_count": 36,
   "id": "0eef1ec4",
   "metadata": {},
   "outputs": [
    {
     "name": "stdout",
     "output_type": "stream",
     "text": [
      "    Channel                 messageId                      time  \\\n",
      "0  Cucumber  5551fd48f853e7f14c2b7b3c  2015-05-12T13:16:56.794Z   \n",
      "1  Cucumber  5551fd4a00ed57993752bbb5  2015-05-12T13:16:58.574Z   \n",
      "2  Cucumber  5551feedf853e7f14c2b7b62  2015-05-12T13:23:57.768Z   \n",
      "3  Cucumber  5552032a1817239c37e4e01b  2015-05-12T13:42:02.416Z   \n",
      "4  Cucumber  55520e5900ed57993752be4e  2015-05-12T14:29:45.058Z   \n",
      "\n",
      "            user                                            message  \\\n",
      "0        amit007  Hi Team, I just recently upgraded our cucumber...   \n",
      "1        amit007  Exception in thread \\main\\ java.lang.NoSuchMet...   \n",
      "2  aslakhellesoy  @amit007 looks like you have inconsistent cucu...   \n",
      "3         LiohAu              So github is trying to replace irc :P   \n",
      "4        amit007  @aslakhellesoy Thanks , seems like I was using...   \n",
      "\n",
      "     Purpose       Category                          Subcategory  \n",
      "0  Team Wide        Dev-Ops  Development Operation Notifications  \n",
      "1  Team Wide        Dev-Ops  Development Operation Notifications  \n",
      "2  Team Wide  Communication         Communication with Teammates  \n",
      "3  Team Wide  Communication         Communication with Teammates  \n",
      "4  Team Wide  Communication         Communication with Teammates  \n",
      "10000\n"
     ]
    }
   ],
   "source": [
    "from sklearn.feature_extraction.text import TfidfVectorizer\n",
    "tfidf = TfidfVectorizer()\n",
    "fname = 'GitterCom.csv'\n",
    "df = pd.read_csv(fname,header=0,encoding='UTF8')\n",
    "print(df.head())\n",
    "print(len(df))"
   ]
  },
  {
   "cell_type": "code",
   "execution_count": 37,
   "id": "0f8585a8",
   "metadata": {},
   "outputs": [],
   "source": [
    "non_string = []\n",
    "for i, row in df.iterrows():\n",
    "    res = ((type(row['message']) != str) or (type(row['Purpose']) != str) or (type(row['Category']) != str) or (type(row['Subcategory']) != str))\n",
    "    if res:\n",
    "        non_string.append(i)\n",
    "    \n",
    "#print(non_string)\n",
    "df.drop(non_string, axis=0, inplace=True)\n",
    "\n",
    "#len(df)"
   ]
  },
  {
   "cell_type": "code",
   "execution_count": 38,
   "id": "3557363b",
   "metadata": {},
   "outputs": [
    {
     "name": "stdout",
     "output_type": "stream",
     "text": [
      "                                             message    Purpose  \\\n",
      "0  Hi Team, I just recently upgraded our cucumber...  team wide   \n",
      "1  Exception in thread \\main\\ java.lang.NoSuchMet...  team wide   \n",
      "2  @amit007 looks like you have inconsistent cucu...  team wide   \n",
      "3              So github is trying to replace irc :P  team wide   \n",
      "4  @aslakhellesoy Thanks , seems like I was using...  team wide   \n",
      "\n",
      "        Category                          Subcategory  \n",
      "0        dev-ops  development operation notifications  \n",
      "1        dev-ops  development operation notifications  \n",
      "2  communication         communication with teammates  \n",
      "3  communication         communication with teammates  \n",
      "4  communication         communication with teammates  \n"
     ]
    }
   ],
   "source": [
    "df.drop(['Channel','messageId','time','user'],axis=1,inplace=True)\n",
    "df['Category']=df['Category'].str.lower()\n",
    "df['Purpose']=df['Purpose'].str.lower()\n",
    "df['Subcategory']=df['Subcategory'].str.lower()\n",
    "print(df.head())"
   ]
  },
  {
   "cell_type": "code",
   "execution_count": 39,
   "id": "8981c928",
   "metadata": {},
   "outputs": [
    {
     "name": "stdout",
     "output_type": "stream",
     "text": [
      "                                             message    Purpose  \\\n",
      "0  hi team recently upgraded cucumberjvm version ...  team wide   \n",
      "1  exception thread main javalangnosuchmethoderro...  team wide   \n",
      "2  amit007 looks like inconsistent cucumber jar v...  team wide   \n",
      "3                        github trying replace irc p  team wide   \n",
      "4  aslakhellesoy thanks seems like using older ve...  team wide   \n",
      "\n",
      "        Category                          Subcategory  \n",
      "0        dev-ops  development operation notifications  \n",
      "1        dev-ops  development operation notifications  \n",
      "2  communication         communication with teammates  \n",
      "3  communication         communication with teammates  \n",
      "4  communication         communication with teammates  \n"
     ]
    }
   ],
   "source": [
    "df['message'] = df['message'].apply(clean_text)\n",
    "print(df.head())"
   ]
  },
  {
   "cell_type": "code",
   "execution_count": 40,
   "id": "b033d61e",
   "metadata": {},
   "outputs": [
    {
     "name": "stdout",
     "output_type": "stream",
     "text": [
      "   0      1      2      3      4      5      6      7      8      9      ...  \\\n",
      "0    0.0    0.0    0.0    0.0    0.0    0.0    0.0    0.0    0.0    0.0  ...   \n",
      "1    0.0    0.0    0.0    0.0    0.0    0.0    0.0    0.0    0.0    0.0  ...   \n",
      "2    0.0    0.0    0.0    0.0    0.0    0.0    0.0    0.0    0.0    0.0  ...   \n",
      "3    0.0    0.0    0.0    0.0    0.0    0.0    0.0    0.0    0.0    0.0  ...   \n",
      "4    0.0    0.0    0.0    0.0    0.0    0.0    0.0    0.0    0.0    0.0  ...   \n",
      "\n",
      "   12175  12176  12177  12178  12179  12180  12181  12182  12183  12184  \n",
      "0    0.0    0.0    0.0    0.0    0.0    0.0    0.0    0.0    0.0    0.0  \n",
      "1    0.0    0.0    0.0    0.0    0.0    0.0    0.0    0.0    0.0    0.0  \n",
      "2    0.0    0.0    0.0    0.0    0.0    0.0    0.0    0.0    0.0    0.0  \n",
      "3    0.0    0.0    0.0    0.0    0.0    0.0    0.0    0.0    0.0    0.0  \n",
      "4    0.0    0.0    0.0    0.0    0.0    0.0    0.0    0.0    0.0    0.0  \n",
      "\n",
      "[5 rows x 12185 columns]\n"
     ]
    }
   ],
   "source": [
    "x = tfidf.fit_transform(df['message'])\n",
    "df_tfidf = pd.DataFrame(x.toarray())\n",
    "print(df_tfidf.head())\n",
    "x=np.array(df_tfidf)\n",
    "fname = 'tfidf.csv'\n",
    "np.savetxt(fname,x, delimiter=',', fmt='%f')"
   ]
  },
  {
   "cell_type": "markdown",
   "id": "8db613e8",
   "metadata": {},
   "source": [
    "# Naive Bayes Classification"
   ]
  },
  {
   "cell_type": "code",
   "execution_count": 41,
   "id": "2574a108",
   "metadata": {},
   "outputs": [
    {
     "data": {
      "text/html": [
       "<div>\n",
       "<style scoped>\n",
       "    .dataframe tbody tr th:only-of-type {\n",
       "        vertical-align: middle;\n",
       "    }\n",
       "\n",
       "    .dataframe tbody tr th {\n",
       "        vertical-align: top;\n",
       "    }\n",
       "\n",
       "    .dataframe thead th {\n",
       "        text-align: right;\n",
       "    }\n",
       "</style>\n",
       "<table border=\"1\" class=\"dataframe\">\n",
       "  <thead>\n",
       "    <tr style=\"text-align: right;\">\n",
       "      <th></th>\n",
       "      <th>message</th>\n",
       "      <th>Purpose</th>\n",
       "      <th>Category</th>\n",
       "      <th>Subcategory</th>\n",
       "    </tr>\n",
       "  </thead>\n",
       "  <tbody>\n",
       "    <tr>\n",
       "      <th>0</th>\n",
       "      <td>hi team recently upgraded cucumberjvm version ...</td>\n",
       "      <td>team wide</td>\n",
       "      <td>dev-ops</td>\n",
       "      <td>development operation notifications</td>\n",
       "    </tr>\n",
       "    <tr>\n",
       "      <th>1</th>\n",
       "      <td>exception thread main javalangnosuchmethoderro...</td>\n",
       "      <td>team wide</td>\n",
       "      <td>dev-ops</td>\n",
       "      <td>development operation notifications</td>\n",
       "    </tr>\n",
       "    <tr>\n",
       "      <th>2</th>\n",
       "      <td>amit007 looks like inconsistent cucumber jar v...</td>\n",
       "      <td>team wide</td>\n",
       "      <td>communication</td>\n",
       "      <td>communication with teammates</td>\n",
       "    </tr>\n",
       "    <tr>\n",
       "      <th>3</th>\n",
       "      <td>github trying replace irc p</td>\n",
       "      <td>team wide</td>\n",
       "      <td>communication</td>\n",
       "      <td>communication with teammates</td>\n",
       "    </tr>\n",
       "    <tr>\n",
       "      <th>4</th>\n",
       "      <td>aslakhellesoy thanks seems like using older ve...</td>\n",
       "      <td>team wide</td>\n",
       "      <td>communication</td>\n",
       "      <td>communication with teammates</td>\n",
       "    </tr>\n",
       "  </tbody>\n",
       "</table>\n",
       "</div>"
      ],
      "text/plain": [
       "                                             message    Purpose  \\\n",
       "0  hi team recently upgraded cucumberjvm version ...  team wide   \n",
       "1  exception thread main javalangnosuchmethoderro...  team wide   \n",
       "2  amit007 looks like inconsistent cucumber jar v...  team wide   \n",
       "3                        github trying replace irc p  team wide   \n",
       "4  aslakhellesoy thanks seems like using older ve...  team wide   \n",
       "\n",
       "        Category                          Subcategory  \n",
       "0        dev-ops  development operation notifications  \n",
       "1        dev-ops  development operation notifications  \n",
       "2  communication         communication with teammates  \n",
       "3  communication         communication with teammates  \n",
       "4  communication         communication with teammates  "
      ]
     },
     "execution_count": 41,
     "metadata": {},
     "output_type": "execute_result"
    }
   ],
   "source": [
    "'''uni_pur = list(df['Purpose'].unique())\n",
    "uni_cat = list(df['Category'].unique())\n",
    "uni_sub = list(df['Subcategory'].unique())\n",
    "\n",
    "df['Purpose'].replace(uni_pur, range(1, len(uni_pur) + 1), inplace = True)\n",
    "df['Category'].replace(uni_cat, range(1, len(uni_cat) + 1), inplace = True)\n",
    "df['Subcategory'].replace(uni_sub, range(1, len(uni_sub) + 1), inplace = True)\n",
    "\n",
    "print(df['Purpose'].unique())\n",
    "print(df['Category'].unique())\n",
    "print(df['Subcategory'].unique())'''\n",
    "df.head()"
   ]
  },
  {
   "cell_type": "code",
   "execution_count": 42,
   "id": "3632772e",
   "metadata": {},
   "outputs": [
    {
     "name": "stdout",
     "output_type": "stream",
     "text": [
      "Test Accuracy of Naive Bayes Model for 'Purpose': 0.8451946472019465\n"
     ]
    }
   ],
   "source": [
    "X_train, X_test, Y_train, Y_test = train_test_split(x, df['Purpose'], test_size=0.33, random_state=42)\n",
    "\n",
    "naive_bayes = GaussianNB()\n",
    "naive_bayes.fit(X_train,Y_train)\n",
    "\n",
    "Y_predNB = naive_bayes.predict(X_test)\n",
    "Y_predNB[0:10]\n",
    "\n",
    "metrics.accuracy_score(Y_test, Y_predNB)\n",
    "print(\"Test Accuracy of Naive Bayes Model for 'Purpose':\",metrics.accuracy_score(Y_test, Y_predNB))"
   ]
  },
  {
   "cell_type": "code",
   "execution_count": 43,
   "id": "55645b87",
   "metadata": {},
   "outputs": [
    {
     "name": "stdout",
     "output_type": "stream",
     "text": [
      "Test Accuracy of Naive Bayes Model for 'Category': 0.3792579075425791\n"
     ]
    }
   ],
   "source": [
    "X_train, X_test, Y_train, Y_test = train_test_split(x, df['Category'], test_size=0.33, random_state=42)\n",
    "\n",
    "naive_bayes = GaussianNB()\n",
    "naive_bayes.fit(X_train,Y_train)\n",
    "\n",
    "Y_predNB = naive_bayes.predict(X_test)\n",
    "\n",
    "metrics.accuracy_score(Y_test, Y_predNB)\n",
    "print(\"Test Accuracy of Naive Bayes Model for 'Category':\",metrics.accuracy_score(Y_test, Y_predNB))"
   ]
  },
  {
   "cell_type": "code",
   "execution_count": 44,
   "id": "536ca0bd",
   "metadata": {},
   "outputs": [
    {
     "name": "stdout",
     "output_type": "stream",
     "text": [
      "Test Accuracy of Naive Bayes Model for 'Subcategory': 0.28801703163017034\n"
     ]
    }
   ],
   "source": [
    "X_train, X_test, Y_train, Y_test = train_test_split(x, df['Subcategory'], test_size=0.33, random_state=42)\n",
    "\n",
    "naive_bayes = GaussianNB()\n",
    "naive_bayes.fit(X_train,Y_train)\n",
    "\n",
    "Y_predNB = naive_bayes.predict(X_test)\n",
    "\n",
    "metrics.accuracy_score(Y_test, Y_predNB)\n",
    "print(\"Test Accuracy of Naive Bayes Model for 'Subcategory':\",metrics.accuracy_score(Y_test, Y_predNB))"
   ]
  },
  {
   "cell_type": "code",
   "execution_count": 45,
   "id": "a917d22d",
   "metadata": {},
   "outputs": [
    {
     "name": "stdout",
     "output_type": "stream",
     "text": [
      "Y_predNB\n",
      "[['team wide' 'customer support' 'troubleshooting']\n",
      " ['team wide' 'dev-ops' 'development operation notifications']\n",
      " ['community support' 'participation in communities of practice'\n",
      "  'software deployments']\n",
      " ['team wide' 'communication' 'communication with teammates']]\n",
      "\n",
      "Y_Test\n",
      "        Purpose          Category                          Subcategory\n",
      "518   team wide  customer support                      troubleshooting\n",
      "3650  team wide           dev-ops  development operation notifications\n",
      "568   team wide           dev-ops                             team q&a\n",
      "39    team wide           dev-ops  development operation notifications\n",
      "\n",
      "Test Accuracy of Multiclass-Multioutput Naive Bayes Model:  0.23661800486618004\n"
     ]
    }
   ],
   "source": [
    "X_train, X_test, Y_train, Y_test = train_test_split(x, df[['Purpose', 'Category', 'Subcategory']], test_size=0.33, random_state=42)\n",
    "\n",
    "naive_bayes = GaussianNB()\n",
    "multi_target_nb = MultiOutputClassifier(naive_bayes, n_jobs = 2)\n",
    "multi_target_nb.fit(X_train, Y_train)\n",
    "\n",
    "Y_predNB = multi_target_nb.predict(X_test)\n",
    "\n",
    "print('Y_predNB')\n",
    "print(Y_predNB[0:4])\n",
    "print('\\nY_Test')\n",
    "print(Y_test[0:4])\n",
    "\n",
    "suc = 0\n",
    "for k in range(len(Y_test)):\n",
    "    l1 = list(Y_test.iloc[k])\n",
    "    l2 = list(Y_predNB[k])\n",
    "    if len(l1)== len(l2) and len(l1) == sum([1 for i, j in zip(l1, l2) if i == j]):\n",
    "        suc = suc + 1\n",
    "\n",
    "print(\"\\nTest Accuracy of Multiclass-Multioutput Naive Bayes Model: \", suc / len(Y_test))"
   ]
  },
  {
   "cell_type": "code",
   "execution_count": null,
   "id": "31862895",
   "metadata": {},
   "outputs": [],
   "source": []
  }
 ],
 "metadata": {
  "kernelspec": {
   "display_name": "Python 3 (ipykernel)",
   "language": "python",
   "name": "python3"
  },
  "language_info": {
   "codemirror_mode": {
    "name": "ipython",
    "version": 3
   },
   "file_extension": ".py",
   "mimetype": "text/x-python",
   "name": "python",
   "nbconvert_exporter": "python",
   "pygments_lexer": "ipython3",
   "version": "3.8.12"
  }
 },
 "nbformat": 4,
 "nbformat_minor": 5
}
